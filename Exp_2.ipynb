{
 "cells": [
  {
   "cell_type": "code",
   "execution_count": 1,
   "id": "bf9bedc2",
   "metadata": {},
   "outputs": [],
   "source": [
    "import numpy as np\n",
    "import matplotlib.pyplot as plt\n",
    "import sys\n",
    "import math\n",
    "\n",
    "from scipy.spatial import ConvexHull"
   ]
  },
  {
   "cell_type": "code",
   "execution_count": 2,
   "id": "6b2f17bc",
   "metadata": {},
   "outputs": [],
   "source": [
    "np.set_printoptions(threshold=sys.maxsize)\n",
    "\n",
    "figure_size = 5\n",
    "plt.rcParams[\"figure.figsize\"] = (figure_size, figure_size)"
   ]
  },
  {
   "cell_type": "markdown",
   "id": "51c80d9c",
   "metadata": {},
   "source": [
    "## Constants"
   ]
  },
  {
   "cell_type": "code",
   "execution_count": 3,
   "id": "bb7145f5",
   "metadata": {},
   "outputs": [],
   "source": [
    "x_interval = [-1, 1]\n",
    "y_interval = [-1, 1]\n",
    "\n",
    "step_interval = 100"
   ]
  },
  {
   "cell_type": "code",
   "execution_count": 4,
   "id": "8ea93853",
   "metadata": {},
   "outputs": [],
   "source": [
    "alpha = 0.5\n",
    "epsilon = 10e-5"
   ]
  },
  {
   "cell_type": "markdown",
   "id": "4473d766",
   "metadata": {},
   "source": [
    "## Utilities"
   ]
  },
  {
   "cell_type": "code",
   "execution_count": 5,
   "id": "86b8966e",
   "metadata": {},
   "outputs": [],
   "source": [
    "'''\n",
    "t – array of measure points\n",
    "alpha – given constant\n",
    "\n",
    "Returns an array of averaged zeroes of the function\n",
    "'''\n",
    "def average_zero(t, alpha):    \n",
    "    result = np.empty(shape=(0,2), dtype=float)\n",
    "\n",
    "    for i in range(0, len(t)):\n",
    "        \n",
    "        zero = np.empty(shape=(2), dtype=float)\n",
    "\n",
    "        zero[0] = t[i, 0] * alpha\n",
    "        zero[1] = t[i, 1] * alpha\n",
    "        \n",
    "        result = np.append(result, [zero], axis=0)\n",
    "        \n",
    "    return result\n",
    "\n",
    "'''\n",
    "vectors – an array of vectors\n",
    "t – array of measure points\n",
    "alpha – given constant\n",
    "\n",
    "Returns an array of averaged vectors on which\n",
    " the function if given\n",
    "'''\n",
    "def average_vectors(vectors, t, alpha):\n",
    "    vectors_count = len(vectors)\n",
    "    \n",
    "    result = np.empty(shape=(0,vectors_count,2), dtype=float)\n",
    "\n",
    "    for i in range(0, len(t)):\n",
    "        \n",
    "        averaged_vectors = np.empty(shape=(0,2), dtype=float)\n",
    "\n",
    "        for j in range(0, vectors_count):\n",
    "            averaged_vector = np.empty(shape=(2), dtype=float)\n",
    "\n",
    "            averaged_vector[0] = vectors[j, 0] + t[i, 0] * alpha\n",
    "            averaged_vector[1] = vectors[j, 1] + t[i, 1] * alpha\n",
    "\n",
    "            averaged_vectors = np.append(averaged_vectors, [averaged_vector], axis=0)\n",
    "        \n",
    "        result = np.append(result, [averaged_vectors], axis=0)\n",
    "        \n",
    "    return result"
   ]
  },
  {
   "cell_type": "code",
   "execution_count": 6,
   "id": "b62d9c4b",
   "metadata": {},
   "outputs": [],
   "source": [
    "'''\n",
    "Returns a list of rays intersections if any\n",
    "\n",
    "line1 – array with a start and an end of the line\n",
    "        that respresents the first ray\n",
    "line2 – array with a start and an end of the line\n",
    "        that respresents the second ray\n",
    "'''\n",
    "def find_intersection_of_rays(line1, line2):\n",
    "    \n",
    "    if np.array_equal(line1[0], line2[1]):\n",
    "        return line1[0]\n",
    "    \n",
    "    elif np.array_equal(line2[0], line1[1]):\n",
    "        return line2[0]\n",
    "    \n",
    "    result = np.empty(shape=(2), dtype=float)\n",
    "    \n",
    "    v1 = [line1[1][0] - line1[0][0], line1[1][1] - line1[0][1]]\n",
    "    v2 = [line2[1][0] - line2[0][0], line2[1][1] - line2[0][1]]\n",
    "    \n",
    "    l1 = np.sqrt(v1[1]**2 + v1[0]**2)\n",
    "    l2 = np.sqrt(v2[1]**2 + v2[0]**2)\n",
    "    \n",
    "    n1 = [v1[0] / l1, v1[1] / l1]\n",
    "    n2 = [v2[0] / l2, v2[1] / l2]\n",
    "    \n",
    "    dx = line2[0][0] - line1[0][0]\n",
    "    dy = line2[0][1] - line1[0][1]\n",
    "    \n",
    "    det = n2[0] * n1[1] - n1[0] * n2[1]\n",
    "\n",
    "    if det != 0:\n",
    "        u = (dy * n2[0] - dx * n2[1]) / det\n",
    "        v = (dy * n1[0] - dx * n1[1]) / det\n",
    "        \n",
    "        if u >= 0 and v >= 0:\n",
    "            if n1[0] == 0 or n2[0] == 0:\n",
    "                m0 = n1[1] / (n1[0] + epsilon)\n",
    "                m1 = n2[1] / (n2[0] + epsilon)\n",
    "            else:\n",
    "                m0 = n1[1] / n1[0]\n",
    "                m1 = n2[1] / n2[0]\n",
    "            \n",
    "            b0 = line1[0][1] - m0 * line1[0][0]\n",
    "            b1 = line2[0][1] - m1 * line2[0][0]\n",
    "            \n",
    "            #if b0 == 0 and b1 == 0:\n",
    "            #    return\n",
    "            \n",
    "            x = (b1 - b0) / (m0 - m1)\n",
    "            y = m0 * x + b0\n",
    "            \n",
    "            result = [x, y]\n",
    "            \n",
    "            return result\n",
    "            print(result)"
   ]
  },
  {
   "cell_type": "markdown",
   "id": "35cb4d7e",
   "metadata": {},
   "source": [
    "## Main"
   ]
  },
  {
   "cell_type": "markdown",
   "id": "642a26ab",
   "metadata": {},
   "source": [
    "### Initial function"
   ]
  },
  {
   "cell_type": "code",
   "execution_count": 7,
   "id": "b6b572d0",
   "metadata": {
    "scrolled": true
   },
   "outputs": [
    {
     "data": {
      "image/png": "[encoded data removed]",
      "text/plain": [
       "<Figure size 360x360 with 1 Axes>"
      ]
     },
     "metadata": {
      "needs_background": "light"
     },
     "output_type": "display_data"
    }
   ],
   "source": [
    "initial_vectors = np.array([[0, 1], [1, -0.5], [-1, -1]]) # asymmetric\n",
    "#initial_vectors = np.array([[0, 1], [1, -0.5], [-1, -0.5]]) # symmetric\n",
    "#initial_vectors = np.array([[0, 1], [0.5, -1], [-0.5, -1]]) # symmetric\n",
    "#initial_vectors = np.array([[0, 1], [1, -1], [-1, -1]]) # symmetric\n",
    "#initial_vectors = np.array([[1, 0], [-1, -1], [-1, 1]])\n",
    "\n",
    "#initial_vectors = np.array([[0, 1], [1, 0], [0, -1], [-1, 0]]) #symmetric\n",
    "#initial_vectors = np.array([[0, 1], [1, 0], [0.5, -1], [-1, 0.5]])\n",
    "#initial_vectors = np.array([[0, 1], [1, 0], [0.5, -1], [-1, 0.5]])\n",
    "#initial_vectors = np.array([[-1, 1], [1, 0.5], [0.5, -1], [-1, 0]])\n",
    "\n",
    "#t = np.array([[1, 1], [1, -1], [-1, -1], [-1, 1]])\n",
    "#t = np.array([[1, 1], [1, -1], [0, -1], [-1, 0.5]])\n",
    "\n",
    "#t = np.array([[1, 1], [1, -1], [-1, 0]])\n",
    "t = np.array([[0.25, 0.5], [0.5, -1], [-1, 0.75]])\n",
    "#t = np.array([[1, 0.5], [-1, 1], [0, -1]])\n",
    "p = np.array([1/3, 1/3, 1/3])\n",
    "\n",
    "averaged_vectors = average_vectors(initial_vectors, t, alpha)\n",
    "averaged_zero = average_zero(t, alpha)\n",
    "\n",
    "for i in range(0, len(initial_vectors)):\n",
    "    x_values = [0, initial_vectors[i, 0]]\n",
    "    y_values = [0, initial_vectors[i, 1]]\n",
    "\n",
    "    plt.plot(x_values, y_values, color='green')\n",
    "\n",
    "for i in range(0, len(t)):\n",
    "    plt.plot(t[i, 0], t[i, 1], marker=\"o\", markersize=5, markeredgecolor=\"red\", markerfacecolor=\"red\")"
   ]
  },
  {
   "cell_type": "markdown",
   "id": "20fb5426",
   "metadata": {},
   "source": [
    "### Find avegarings"
   ]
  },
  {
   "cell_type": "code",
   "execution_count": 8,
   "id": "3216a12d",
   "metadata": {
    "scrolled": false
   },
   "outputs": [],
   "source": [
    "points = np.empty(shape=(0,2), dtype=float)\n",
    "\n",
    "for l in range(0, len(averaged_zero)):\n",
    "    #print('--l =', l, '(measure points)')\n",
    "    start1 = averaged_zero[l]\n",
    "    end1_list = averaged_vectors[l]\n",
    "\n",
    "    for i in range(0, len(initial_vectors)):\n",
    "        #print('   --i =', i, '(vectors count)')\n",
    "        end1 = end1_list[i]\n",
    "\n",
    "        for j in range(l + 1, len(t)):\n",
    "            #print('    --j =', j, '(other measure points)')\n",
    "            start2 = averaged_zero[j]\n",
    "            end2_list = averaged_vectors[j]\n",
    "\n",
    "            for k in range(0, len(initial_vectors)):\n",
    "                #print('     --k =', k, '(vectors count)')\n",
    "                end2 = end2_list[k]\n",
    "\n",
    "                point = find_intersection_of_rays([start1, end1], [start2, end2])\n",
    "\n",
    "                if point is not None and not np.isnan(point).any():\n",
    "                    points = np.append(points, [point], axis=0)"
   ]
  },
  {
   "cell_type": "markdown",
   "id": "65f403eb",
   "metadata": {},
   "source": [
    "### Plot intersection in a convex hull"
   ]
  },
  {
   "cell_type": "code",
   "execution_count": 9,
   "id": "7dab70a9",
   "metadata": {},
   "outputs": [
    {
     "data": {
      "image/png": "[encoded data removed]",
      "text/plain": [
       "<Figure size 720x216 with 2 Axes>"
      ]
     },
     "metadata": {
      "needs_background": "light"
     },
     "output_type": "display_data"
    },
    {
     "name": "stdout",
     "output_type": "stream",
     "text": [
      "intersection count = 3\n"
     ]
    }
   ],
   "source": [
    "convexFigure = np.concatenate((points, averaged_zero))\n",
    "\n",
    "hull = ConvexHull(convexFigure)\n",
    "\n",
    "fig, (ax1, ax2) = plt.subplots(ncols=2, figsize=(10, 3))\n",
    "\n",
    "for i in range(0, len(initial_vectors)):\n",
    "    x_values = [0, initial_vectors[i, 0]]\n",
    "    y_values = [0, initial_vectors[i, 1]]\n",
    "\n",
    "    plt.plot(x_values, y_values, color='green')\n",
    "    \n",
    "x_values = [averaged_zero[0, 0], averaged_vectors[0, 2, 0]]\n",
    "y_values = [averaged_zero[0, 1], averaged_vectors[0, 2, 1]]\n",
    "    \n",
    "for i in range(0, len(averaged_vectors)):\n",
    "    for j in range(0, len(averaged_vectors[i])):\n",
    "        x_values = [averaged_zero[i, 0], averaged_vectors[i, j, 0]]\n",
    "        y_values = [averaged_zero[i, 1], averaged_vectors[i, j, 1]]\n",
    "\n",
    "        plt.plot(x_values, y_values, color='blue')\n",
    "    \n",
    "for ax in (ax1, ax2):\n",
    "    ax.plot(convexFigure[:, 0], convexFigure[:, 1], '.', color='k')\n",
    "    \n",
    "    if ax == ax1:\n",
    "        ax.set_title('Given points')\n",
    "    else:\n",
    "        ax.set_title('Convex hull')\n",
    "        \n",
    "        for simplex in hull.simplices:\n",
    "            ax.plot(convexFigure[simplex, 0], convexFigure[simplex, 1], 'c')\n",
    "            \n",
    "        ax.plot(convexFigure[hull.vertices, 0], convexFigure[hull.vertices, 1], 'o', mec='r', color='none', lw=1, markersize=10)\n",
    "\n",
    "plt.show()\n",
    "\n",
    "print('intersection count =', len(points))\n"
   ]
  }
 ],
 "metadata": {
  "kernelspec": {
   "display_name": "Python 3 (ipykernel)",
   "language": "python",
   "name": "python3"
  },
  "language_info": {
   "codemirror_mode": {
    "name": "ipython",
    "version": 3
   },
   "file_extension": ".py",
   "mimetype": "text/x-python",
   "name": "python",
   "nbconvert_exporter": "python",
   "pygments_lexer": "ipython3",
   "version": "3.9.7"
  }
 },
 "nbformat": 4,
 "nbformat_minor": 5
}
