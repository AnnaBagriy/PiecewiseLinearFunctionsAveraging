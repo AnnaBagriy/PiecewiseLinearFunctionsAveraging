{
 "cells": [
  {
   "cell_type": "code",
   "execution_count": 6,
   "id": "9246f6e5",
   "metadata": {},
   "outputs": [],
   "source": [
    "import numpy as np\n",
    "import matplotlib.pyplot as plt\n",
    "import pylab"
   ]
  },
  {
   "cell_type": "code",
   "execution_count": 7,
   "id": "5e40b2f6",
   "metadata": {},
   "outputs": [],
   "source": [
    "alpha = 0.5\n",
    "epsilon = 10e-3"
   ]
  },
  {
   "cell_type": "code",
   "execution_count": 8,
   "id": "777898ed",
   "metadata": {},
   "outputs": [],
   "source": [
    "def f_L(x):\n",
    "    return -x\n",
    "\n",
    "def f_R(x):\n",
    "    return 2*x\n",
    "\n",
    "def f(x):\n",
    "    if x >= 0:\n",
    "        return f_R(x)\n",
    "    elif x <= 0:\n",
    "        return f_L(x)\n",
    "    \n",
    "    \n",
    "def f_alpha(x):\n",
    "    if (-epsilon + alpha) < x < -alpha:\n",
    "        return (f_L(x + alpha) + f_L(x - alpha)) / 2\n",
    "    elif -alpha <= x <= alpha:\n",
    "        return (f_R(x + alpha) + f_L(x - alpha)) / 2\n",
    "    elif alpha < x < epsilon - alpha:\n",
    "        return (f_R(x + alpha) + f_R(x - alpha)) / 2"
   ]
  },
  {
   "cell_type": "code",
   "execution_count": 9,
   "id": "2076beb6",
   "metadata": {},
   "outputs": [
    {
     "name": "stdout",
     "output_type": "stream",
     "text": [
      "1.7763568394002505e-15\n"
     ]
    },
    {
     "data": {
      "image/png": "[encoded data removed]",
      "text/plain": [
       "<Figure size 432x288 with 1 Axes>"
      ]
     },
     "metadata": {
      "needs_background": "light"
     },
     "output_type": "display_data"
    }
   ],
   "source": [
    "x = np.arange(-1, 1, 0.05)\n",
    "y = []\n",
    "\n",
    "for i in range(len(x)):\n",
    "    y.append(f(x[i]))\n",
    "    \n",
    "x_alpha = np.arange(-1, 1, 0.0005)\n",
    "y_alpha = []\n",
    "\n",
    "for i in range(len(x_alpha)):\n",
    "    y_alpha.append(f_alpha(x_alpha[i]))\n",
    "\n",
    "plt.plot(x, y)\n",
    "plt.plot(x_alpha, y_alpha)\n",
    "\n",
    "print(min(y))"
   ]
  },
  {
   "cell_type": "code",
   "execution_count": null,
   "id": "792048ba",
   "metadata": {},
   "outputs": [],
   "source": []
  }
 ],
 "metadata": {
  "kernelspec": {
   "display_name": "Python 3 (ipykernel)",
   "language": "python",
   "name": "python3"
  },
  "language_info": {
   "codemirror_mode": {
    "name": "ipython",
    "version": 3
   },
   "file_extension": ".py",
   "mimetype": "text/x-python",
   "name": "python",
   "nbconvert_exporter": "python",
   "pygments_lexer": "ipython3",
   "version": "3.9.7"
  }
 },
 "nbformat": 4,
 "nbformat_minor": 5
}
